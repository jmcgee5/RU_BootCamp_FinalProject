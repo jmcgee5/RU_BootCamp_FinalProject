{
 "cells": [
  {
   "cell_type": "code",
   "execution_count": 14,
   "metadata": {},
   "outputs": [],
   "source": [
    "import pandas as pd\n",
    "\n",
    "poster_urls = []\n",
    "\n",
    "# Read in IMDb and Wikipedia movie data (both in same file)\n",
    "data = pd.read_csv(\"datasets/movies_final.csv\")\n",
    "dList = data['imdb_id'].tolist()\n",
    "\n",
    "def build_url(y):\n",
    "    return 'http://img.omdbapi.com/?i=' + str(y) + '&h=600&apikey=822e73ed'\n",
    "\n",
    "for y in dList:\n",
    "    poster_url = build_url(y)\n",
    "    poster_urls.append(poster_url)"
   ]
  },
  {
   "cell_type": "code",
   "execution_count": 15,
   "metadata": {},
   "outputs": [],
   "source": [
    "poster_urls[7705] = 'http://img.omdbapi.com/?i=tt1325753&h=600&apikey=822e73ed'\n",
    "poster_urls[10259] = 'http://img.omdbapi.com/?i=tt0491603&h=600&apikey=822e73ed'"
   ]
  },
  {
   "cell_type": "code",
   "execution_count": 17,
   "metadata": {},
   "outputs": [],
   "source": [
    "data['poster_urls'] = poster_urls"
   ]
  },
  {
   "cell_type": "code",
   "execution_count": 20,
   "metadata": {},
   "outputs": [],
   "source": [
    "data.to_csv('datasets/movies_final.csv')"
   ]
  },
  {
   "cell_type": "code",
   "execution_count": null,
   "metadata": {},
   "outputs": [],
   "source": []
  }
 ],
 "metadata": {
  "kernelspec": {
   "display_name": "Python 3",
   "language": "python",
   "name": "python3"
  },
  "language_info": {
   "codemirror_mode": {
    "name": "ipython",
    "version": 3
   },
   "file_extension": ".py",
   "mimetype": "text/x-python",
   "name": "python",
   "nbconvert_exporter": "python",
   "pygments_lexer": "ipython3",
   "version": "3.7.3"
  }
 },
 "nbformat": 4,
 "nbformat_minor": 2
}
